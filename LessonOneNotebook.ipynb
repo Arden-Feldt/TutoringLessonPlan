{
 "cells": [
  {
   "cell_type": "markdown",
   "metadata": {},
   "source": [
    "## Hello Brecker! This is your first file\n",
    "\n",
    "#### This is a Python Notebook. And you can run cells like the one below. Click the play button to the left of the cell."
   ]
  },
  {
   "cell_type": "code",
   "execution_count": 37,
   "metadata": {},
   "outputs": [
    {
     "name": "stdout",
     "output_type": "stream",
     "text": [
      "Hello World!\n"
     ]
    }
   ],
   "source": [
    "print(\"Hello World!\")"
   ]
  },
  {
   "cell_type": "markdown",
   "metadata": {},
   "source": [
    "#### Now lets start the basics:"
   ]
  },
  {
   "cell_type": "code",
   "execution_count": 2,
   "metadata": {},
   "outputs": [
    {
     "name": "stdout",
     "output_type": "stream",
     "text": [
      "1\n"
     ]
    }
   ],
   "source": [
    "# This is a comment, it explains code in the code.\n",
    "# You know it is a comment because it starts with a \"#\"\n",
    "\n",
    "# First lets make a variable:\n",
    "x = 1\n",
    "\n",
    "# Now print it - to make sure everythin works\n",
    "print(x)"
   ]
  },
  {
   "cell_type": "markdown",
   "metadata": {},
   "source": [
    "#### You said you like math so strap in!"
   ]
  },
  {
   "cell_type": "code",
   "execution_count": 38,
   "metadata": {},
   "outputs": [
    {
     "name": "stdout",
     "output_type": "stream",
     "text": [
      "3\n"
     ]
    }
   ],
   "source": [
    "x = 1\n",
    "y = 2\n",
    "\n",
    "result = x + y\n",
    "\n",
    "# Now what do you get?\n",
    "print(result)"
   ]
  },
  {
   "cell_type": "markdown",
   "metadata": {},
   "source": [
    "#### That wasn't so bad. Lets do some real computer math now:"
   ]
  },
  {
   "cell_type": "code",
   "execution_count": 40,
   "metadata": {},
   "outputs": [
    {
     "name": "stdout",
     "output_type": "stream",
     "text": [
      "2\n"
     ]
    }
   ],
   "source": [
    "answer = int(5 / 2)\n",
    "\n",
    "# so whats the answer, and how can you check?:\n",
    "# becuse 5/2 =2 1/2 becuse it onvertes\n",
    "print(answer)"
   ]
  },
  {
   "cell_type": "markdown",
   "metadata": {},
   "source": [
    "#### hmmmmm..."
   ]
  },
  {
   "cell_type": "code",
   "execution_count": null,
   "metadata": {},
   "outputs": [],
   "source": [
    "# Lets try and fix it:"
   ]
  },
  {
   "cell_type": "markdown",
   "metadata": {},
   "source": [
    "#### Start arrays:"
   ]
  },
  {
   "cell_type": "code",
   "execution_count": 43,
   "metadata": {},
   "outputs": [
    {
     "name": "stdout",
     "output_type": "stream",
     "text": [
      "c\n"
     ]
    }
   ],
   "source": [
    "x = [\"a\", \"b\", \"c\", \"d\"]\n",
    "\n",
    "print(x[2])"
   ]
  },
  {
   "cell_type": "markdown",
   "metadata": {},
   "source": [
    "#### What else can we do?"
   ]
  },
  {
   "cell_type": "code",
   "execution_count": 44,
   "metadata": {},
   "outputs": [
    {
     "name": "stdout",
     "output_type": "stream",
     "text": [
      "a\n",
      "b\n",
      "c\n",
      "d\n"
     ]
    }
   ],
   "source": [
    "# What is a for loop\n",
    "\n",
    "for letter in x:\n",
    "    print(letter)\n",
    "\n",
    "\n",
    "\n",
    "\n"
   ]
  },
  {
   "cell_type": "markdown",
   "metadata": {},
   "source": [
    "#### would this work?"
   ]
  },
  {
   "cell_type": "code",
   "execution_count": 50,
   "metadata": {},
   "outputs": [
    {
     "name": "stdout",
     "output_type": "stream",
     "text": [
      "a\n",
      "b\n",
      "c\n",
      "d\n"
     ]
    }
   ],
   "source": [
    "for fortnite in x:\n",
    "     print(fortnite)"
   ]
  },
  {
   "cell_type": "markdown",
   "metadata": {},
   "source": [
    "#### Logic: if statements"
   ]
  },
  {
   "cell_type": "code",
   "execution_count": 52,
   "metadata": {},
   "outputs": [
    {
     "name": "stdout",
     "output_type": "stream",
     "text": [
      "Your number is not ZERO\n"
     ]
    }
   ],
   "source": [
    "number = 1\n",
    "\n",
    "if(number == 0):\n",
    "    print(\"Your number is ZERO\")\n",
    "else:\n",
    "    print(\"Your number is not ZERO\")"
   ]
  },
  {
   "cell_type": "markdown",
   "metadata": {},
   "source": [
    "#### Lets combine some concepts"
   ]
  },
  {
   "cell_type": "code",
   "execution_count": 53,
   "metadata": {},
   "outputs": [
    {
     "name": "stdout",
     "output_type": "stream",
     "text": [
      "wrong num\n",
      "wrong num\n",
      "We found 2\n",
      "wrong num\n",
      "wrong num\n",
      "wrong num\n"
     ]
    }
   ],
   "source": [
    "goalNum = 2\n",
    "listWeHave =  [0, 1, 2, 3, 4, 5]\n",
    "\n",
    "for num in listWeHave:\n",
    "    if(num == goalNum):\n",
    "        print(\"We found\", goalNum)\n",
    "    else:\n",
    "        print(\"wrong num\")"
   ]
  },
  {
   "cell_type": "markdown",
   "metadata": {},
   "source": [
    "## CHALLENGE PROBLEM"
   ]
  },
  {
   "cell_type": "code",
   "execution_count": null,
   "metadata": {},
   "outputs": [],
   "source": []
  },
  {
   "cell_type": "code",
   "execution_count": 54,
   "metadata": {},
   "outputs": [
    {
     "name": "stdout",
     "output_type": "stream",
     "text": [
      "99\n"
     ]
    }
   ],
   "source": [
    "# find the maximum value in the list\n",
    "\n",
    "max = 0\n",
    "\n",
    "givenList = [54, 32, 81, 88, 62, 1, 82, 91, 2, 61, 62, 3, 32, 51, 25, 16, 98, 16, 79, 17, 10, 21, 19, 48, 53, 74, 3, 61, 25, 40, 57, 8, 44, 99, 25, 86, 70, 32, 5, 73, 50, 62, 51, 41, 95, 92, 56, 52, 84, 14]\n",
    "\n",
    "for number in givenList:\n",
    "    if(max < number): \n",
    "        max = number\n",
    "\n",
    "\n",
    "print(max)"
   ]
  },
  {
   "cell_type": "code",
   "execution_count": 57,
   "metadata": {},
   "outputs": [
    {
     "ename": "TypeError",
     "evalue": "'int' object is not callable",
     "output_type": "error",
     "traceback": [
      "\u001b[1;31m---------------------------------------------------------------------------\u001b[0m",
      "\u001b[1;31mTypeError\u001b[0m                                 Traceback (most recent call last)",
      "Cell \u001b[1;32mIn[57], line 2\u001b[0m\n\u001b[0;32m      1\u001b[0m listofnum \u001b[38;5;241m=\u001b[39m (\u001b[38;5;241m54\u001b[39m, \u001b[38;5;241m32\u001b[39m, \u001b[38;5;241m81\u001b[39m, \u001b[38;5;241m88\u001b[39m, \u001b[38;5;241m62\u001b[39m, \u001b[38;5;241m1\u001b[39m, \u001b[38;5;241m82\u001b[39m, \u001b[38;5;241m91\u001b[39m, \u001b[38;5;241m2\u001b[39m, \u001b[38;5;241m61\u001b[39m, \u001b[38;5;241m62\u001b[39m, \u001b[38;5;241m3\u001b[39m, \u001b[38;5;241m32\u001b[39m, \u001b[38;5;241m51\u001b[39m, \u001b[38;5;241m25\u001b[39m, \u001b[38;5;241m16\u001b[39m, \u001b[38;5;241m98\u001b[39m, \u001b[38;5;241m16\u001b[39m, \u001b[38;5;241m79\u001b[39m, \u001b[38;5;241m17\u001b[39m, \u001b[38;5;241m10\u001b[39m, \u001b[38;5;241m21\u001b[39m, \u001b[38;5;241m19\u001b[39m, \u001b[38;5;241m48\u001b[39m, \u001b[38;5;241m53\u001b[39m, \u001b[38;5;241m74\u001b[39m, \u001b[38;5;241m3\u001b[39m, \u001b[38;5;241m61\u001b[39m, \u001b[38;5;241m25\u001b[39m, \u001b[38;5;241m40\u001b[39m, \u001b[38;5;241m57\u001b[39m, \u001b[38;5;241m8\u001b[39m, \u001b[38;5;241m44\u001b[39m, \u001b[38;5;241m99\u001b[39m, \u001b[38;5;241m25\u001b[39m, \u001b[38;5;241m86\u001b[39m, \u001b[38;5;241m70\u001b[39m, \u001b[38;5;241m32\u001b[39m, \u001b[38;5;241m5\u001b[39m, \u001b[38;5;241m73\u001b[39m, \u001b[38;5;241m50\u001b[39m, \u001b[38;5;241m62\u001b[39m, \u001b[38;5;241m51\u001b[39m, \u001b[38;5;241m41\u001b[39m, \u001b[38;5;241m95\u001b[39m, \u001b[38;5;241m92\u001b[39m, \u001b[38;5;241m56\u001b[39m, \u001b[38;5;241m52\u001b[39m, \u001b[38;5;241m84\u001b[39m, \u001b[38;5;241m14\u001b[39m)\n\u001b[1;32m----> 2\u001b[0m maxNow \u001b[38;5;241m=\u001b[39m \u001b[38;5;28;43mmax\u001b[39;49m\u001b[43m(\u001b[49m\u001b[43mlistofnum\u001b[49m\u001b[43m)\u001b[49m\n\u001b[0;32m      3\u001b[0m \u001b[38;5;28mprint\u001b[39m(maxNow)\n",
      "\u001b[1;31mTypeError\u001b[0m: 'int' object is not callable"
     ]
    }
   ],
   "source": [
    "listofnum = (54, 32, 81, 88, 62, 1, 82, 91, 2, 61, 62, 3, 32, 51, 25, 16, 98, 16, 79, 17, 10, 21, 19, 48, 53, 74, 3, 61, 25, 40, 57, 8, 44, 99, 25, 86, 70, 32, 5, 73, 50, 62, 51, 41, 95, 92, 56, 52, 84, 14)\n",
    "maxNow = max(listofnum)\n",
    "print(maxNow)"
   ]
  },
  {
   "cell_type": "markdown",
   "metadata": {},
   "source": [
    "#### What do birds do to make homes?"
   ]
  },
  {
   "cell_type": "code",
   "execution_count": 59,
   "metadata": {},
   "outputs": [
    {
     "name": "stdout",
     "output_type": "stream",
     "text": [
      "10\n",
      "11\n",
      "12\n",
      "13\n",
      "20\n",
      "21\n",
      "22\n",
      "23\n",
      "30\n",
      "31\n",
      "32\n",
      "33\n"
     ]
    }
   ],
   "source": [
    "listOflists = [[10, 11, 12, 13],\n",
    "               [20, 21, 22, 23],\n",
    "               [30, 31, 32, 33]]\n",
    "\n",
    "# print each value in the array of arrays - using only for loops and 1 print statement\n",
    "for value in listOflists:\n",
    "    for num in value:\n",
    "        print(num)"
   ]
  },
  {
   "cell_type": "markdown",
   "metadata": {},
   "source": [
    "#### Now to learn using user input:"
   ]
  },
  {
   "cell_type": "code",
   "execution_count": 62,
   "metadata": {},
   "outputs": [
    {
     "name": "stdout",
     "output_type": "stream",
     "text": [
      "Simple Calculator\n",
      "The result of 43.0 - 908.0 is -865.0\n"
     ]
    }
   ],
   "source": [
    "# Prompt user for input\n",
    "print(\"Simple Calculator\")\n",
    "    \n",
    "# Get the first number\n",
    "num1 = float(input(\"Enter the first number: \"))\n",
    "    \n",
    "# Get the operator\n",
    "operator = input(\"Enter an operator (+, -, *, /): \")\n",
    "    \n",
    "# Get the second number\n",
    "num2 = float(input(\"Enter the second number: \"))\n",
    "\n",
    "# Perform the operation based on the operator\n",
    "if operator == '+':\n",
    "    result = num1 + num2\n",
    "    print(f\"The result of {num1} + {num2} is {result}\")\n",
    "elif operator == '-':\n",
    "    result = num1 - num2\n",
    "    print(f\"The result of {num1} - {num2} is {result}\")\n",
    "elif operator == '*':\n",
    "    result = num1 * num2\n",
    "    print(f\"The result of {num1} * {num2} is {result}\")\n",
    "elif operator == '/':\n",
    "    # Check for division by zero\n",
    "    if num2 != 0:\n",
    "        result = num1 / num2\n",
    "        print(f\"The result of {num1} / {num2} is {result}\")\n",
    "    else:\n",
    "        print(\"Error: Cannot divide by zero!\")\n",
    "else:\n",
    "        print(\"Invalid operator! Please enter one of +, -, *, or /.\")\n"
   ]
  },
  {
   "cell_type": "markdown",
   "metadata": {},
   "source": [
    "### How would you use input?"
   ]
  },
  {
   "cell_type": "code",
   "execution_count": null,
   "metadata": {},
   "outputs": [],
   "source": []
  }
 ],
 "metadata": {
  "kernelspec": {
   "display_name": "Python 3",
   "language": "python",
   "name": "python3"
  },
  "language_info": {
   "codemirror_mode": {
    "name": "ipython",
    "version": 3
   },
   "file_extension": ".py",
   "mimetype": "text/x-python",
   "name": "python",
   "nbconvert_exporter": "python",
   "pygments_lexer": "ipython3",
   "version": "3.12.4"
  }
 },
 "nbformat": 4,
 "nbformat_minor": 2
}

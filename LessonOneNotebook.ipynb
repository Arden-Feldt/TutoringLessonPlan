{
 "cells": [
  {
   "cell_type": "markdown",
   "metadata": {},
   "source": [
    "## Hello Brecker! This is your first file\n",
    "\n",
    "#### This is a Python Notebook. And you can run cells like the one below. Click the play button to the left of the cell."
   ]
  },
  {
   "cell_type": "code",
   "execution_count": 1,
   "metadata": {},
   "outputs": [
    {
     "name": "stdout",
     "output_type": "stream",
     "text": [
      "Hello World\n"
     ]
    }
   ],
   "source": [
    "print(\"Hello World!\")"
   ]
  },
  {
   "cell_type": "markdown",
   "metadata": {},
   "source": [
    "#### Now lets start the basics:"
   ]
  },
  {
   "cell_type": "code",
   "execution_count": 2,
   "metadata": {},
   "outputs": [
    {
     "name": "stdout",
     "output_type": "stream",
     "text": [
      "1\n"
     ]
    }
   ],
   "source": [
    "# This is a comment, it explains code in the code.\n",
    "# You know it is a comment because it starts with a \"#\"\n",
    "\n",
    "# First lets make a variable:\n",
    "x = 1\n",
    "\n",
    "# Now print it - to make sure everythin works\n",
    "print(x)"
   ]
  },
  {
   "cell_type": "markdown",
   "metadata": {},
   "source": [
    "#### You said you like math so strap in!"
   ]
  },
  {
   "cell_type": "code",
   "execution_count": 3,
   "metadata": {},
   "outputs": [
    {
     "name": "stdout",
     "output_type": "stream",
     "text": [
      "3\n"
     ]
    }
   ],
   "source": [
    "x = 1\n",
    "y = 2\n",
    "\n",
    "result = x + y\n",
    "\n",
    "# Now what do you get?\n",
    "print(result)"
   ]
  },
  {
   "cell_type": "markdown",
   "metadata": {},
   "source": [
    "#### That wasn't so bad. Lets do some real computer math now:"
   ]
  },
  {
   "cell_type": "code",
   "execution_count": null,
   "metadata": {},
   "outputs": [],
   "source": [
    "answer = 5 / 2\n",
    "\n",
    "# so whats the answer, and how can you check?:"
   ]
  },
  {
   "cell_type": "markdown",
   "metadata": {},
   "source": [
    "#### hmmmmm..."
   ]
  },
  {
   "cell_type": "code",
   "execution_count": null,
   "metadata": {},
   "outputs": [],
   "source": [
    "# Lets try and fix it:"
   ]
  },
  {
   "cell_type": "markdown",
   "metadata": {},
   "source": [
    "#### Start arrays:"
   ]
  },
  {
   "cell_type": "code",
   "execution_count": 25,
   "metadata": {},
   "outputs": [
    {
     "name": "stdout",
     "output_type": "stream",
     "text": [
      "b\n"
     ]
    }
   ],
   "source": [
    "x = [\"a\", \"b\", \"c\", \"d\"]\n",
    "\n",
    "print(x[1])"
   ]
  },
  {
   "cell_type": "markdown",
   "metadata": {},
   "source": [
    "#### What else can we do?"
   ]
  },
  {
   "cell_type": "code",
   "execution_count": 27,
   "metadata": {},
   "outputs": [
    {
     "name": "stdout",
     "output_type": "stream",
     "text": [
      "a\n",
      "b\n",
      "c\n",
      "d\n"
     ]
    }
   ],
   "source": [
    "# What is a for loop\n",
    "\n",
    "for letter in x:\n",
    "    print(letter)\n",
    "\n",
    "\n",
    "\n",
    "\n"
   ]
  },
  {
   "cell_type": "markdown",
   "metadata": {},
   "source": [
    "#### would this work?"
   ]
  },
  {
   "cell_type": "code",
   "execution_count": 28,
   "metadata": {},
   "outputs": [
    {
     "name": "stdout",
     "output_type": "stream",
     "text": [
      "a\n",
      "b\n",
      "c\n",
      "d\n"
     ]
    }
   ],
   "source": [
    "for blob in x:\n",
    "     print(blob)"
   ]
  },
  {
   "cell_type": "markdown",
   "metadata": {},
   "source": [
    "#### Logic: if statements"
   ]
  },
  {
   "cell_type": "code",
   "execution_count": 31,
   "metadata": {},
   "outputs": [
    {
     "name": "stdout",
     "output_type": "stream",
     "text": [
      "Your number is ZERO\n"
     ]
    }
   ],
   "source": [
    "number = 0\n",
    "\n",
    "if(number == 0):\n",
    "    print(\"Your number is ZERO\")\n",
    "else:\n",
    "    print(\"Your number is not ZERO\")"
   ]
  },
  {
   "cell_type": "markdown",
   "metadata": {},
   "source": [
    "#### Lets combine some concepts"
   ]
  },
  {
   "cell_type": "code",
   "execution_count": 34,
   "metadata": {},
   "outputs": [
    {
     "name": "stdout",
     "output_type": "stream",
     "text": [
      "wrong num\n",
      "wrong num\n",
      "We found 2\n",
      "wrong num\n",
      "wrong num\n",
      "wrong num\n"
     ]
    }
   ],
   "source": [
    "goalNum = 2\n",
    "listWeHave =  [0, 1, 2, 3, 4, 5]\n",
    "\n",
    "for num in listWeHave:\n",
    "    if(num == goalNum):\n",
    "        print(\"We found\", goalNum)\n",
    "    else:\n",
    "        print(\"wrong num\")"
   ]
  },
  {
   "cell_type": "markdown",
   "metadata": {},
   "source": [
    "## CHALLENGE PROBLEM"
   ]
  },
  {
   "cell_type": "code",
   "execution_count": 22,
   "metadata": {},
   "outputs": [],
   "source": [
    "# find the maximum value in the list\n",
    "\n",
    "max = null\n",
    "\n",
    "givenList = [54, 32, 81, 88, 62, 1, 82, 91, 2, 61, 62, 3, 32, 51, 25, 16, 98, 16, 79, 17, 10, 21, 19, 48, 53, 74, 3, 61, 25, 40, 57, 8, 44, 99, 25, 86, 70, 32, 5, 73, 50, 62, 51, 41, 95, 92, 56, 52, 84, 14]\n",
    "\n",
    "for null in null:\n",
    "    if(null):\n",
    "        # what do we do here?\n",
    "        null\n",
    "\n",
    "print(max)"
   ]
  },
  {
   "cell_type": "markdown",
   "metadata": {},
   "source": [
    "#### What do birds do to make homes?"
   ]
  },
  {
   "cell_type": "code",
   "execution_count": 35,
   "metadata": {},
   "outputs": [],
   "source": [
    "listOflists = [[10, 11, 12, 13],\n",
    "               [20, 21, 22, 23],\n",
    "               [30, 31, 32, 33]]\n",
    "\n",
    "# print each value in the array of arrays - using only for loops and 1 print statement\n",
    "null"
   ]
  },
  {
   "cell_type": "markdown",
   "metadata": {},
   "source": [
    "#### Now to learn using user input:"
   ]
  },
  {
   "cell_type": "code",
   "execution_count": 36,
   "metadata": {},
   "outputs": [
    {
     "name": "stdout",
     "output_type": "stream",
     "text": [
      "Simple Calculator\n",
      "The result of 1.0 + 1.0 is 2.0\n"
     ]
    }
   ],
   "source": [
    "# Prompt user for input\n",
    "print(\"Simple Calculator\")\n",
    "    \n",
    "# Get the first number\n",
    "num1 = float(input(\"Enter the first number: \"))\n",
    "    \n",
    "# Get the operator\n",
    "operator = input(\"Enter an operator (+, -, *, /): \")\n",
    "    \n",
    "# Get the second number\n",
    "num2 = float(input(\"Enter the second number: \"))\n",
    "\n",
    "# Perform the operation based on the operator\n",
    "if operator == '+':\n",
    "    result = num1 + num2\n",
    "    print(f\"The result of {num1} + {num2} is {result}\")\n",
    "elif operator == '-':\n",
    "    result = num1 - num2\n",
    "    print(f\"The result of {num1} - {num2} is {result}\")\n",
    "elif operator == '*':\n",
    "    result = num1 * num2\n",
    "    print(f\"The result of {num1} * {num2} is {result}\")\n",
    "elif operator == '/':\n",
    "    # Check for division by zero\n",
    "    if num2 != 0:\n",
    "        result = num1 / num2\n",
    "        print(f\"The result of {num1} / {num2} is {result}\")\n",
    "    else:\n",
    "        print(\"Error: Cannot divide by zero!\")\n",
    "else:\n",
    "        print(\"Invalid operator! Please enter one of +, -, *, or /.\")\n"
   ]
  }
 ],
 "metadata": {
  "kernelspec": {
   "display_name": "Python 3",
   "language": "python",
   "name": "python3"
  },
  "language_info": {
   "codemirror_mode": {
    "name": "ipython",
    "version": 3
   },
   "file_extension": ".py",
   "mimetype": "text/x-python",
   "name": "python",
   "nbconvert_exporter": "python",
   "pygments_lexer": "ipython3",
   "version": "3.12.4"
  }
 },
 "nbformat": 4,
 "nbformat_minor": 2
}
